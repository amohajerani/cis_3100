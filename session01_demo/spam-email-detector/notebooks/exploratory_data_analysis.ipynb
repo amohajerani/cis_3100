{
 "cells": [
  {
   "cell_type": "markdown",
   "metadata": {},
   "source": [
    "# Exploratory Data Analysis on Spam Email Dataset\n",
    "\n",
    "In this notebook, we will perform exploratory data analysis (EDA) on the spam email dataset. We will visualize the distribution of spam and non-spam emails, analyze the length of emails, and explore the most common words in spam and non-spam emails."
   ]
  },
  {
   "cell_type": "code",
   "execution_count": 1,
   "metadata": {},
   "outputs": [],
   "source": [
    "# Import necessary libraries\n",
    "import pandas as pd\n",
    "import matplotlib.pyplot as plt\n",
    "import seaborn as sns\n",
    "\n",
    "# Set the style for seaborn\n",
    "sns.set(style='whitegrid')"
   ]
  },
  {
   "cell_type": "code",
   "execution_count": 2,
   "metadata": {},
   "outputs": [],
   "source": [
    "# Load the dataset\n",
    "data = pd.read_csv('../data/emails.csv')\n",
    "\n",
    "# Display the first few rows of the dataset\n",
    "data.head()"
   ]
  },
  {
   "cell_type": "code",
   "execution_count": 3,
   "metadata": {},
   "outputs": [],
   "source": [
    "# Check the distribution of spam and non-spam emails\n",
    "plt.figure(figsize=(8, 5))\n",
    "sns.countplot(x='label', data=data)\n",
    "plt.title('Distribution of Spam and Non-Spam Emails')\n",
    "plt.xlabel('Label')\n",
    "plt.ylabel('Count')\n",
    "plt.show()"
   ]
  },
  {
   "cell_type": "code",
   "execution_count": 4,
   "metadata": {},
   "outputs": [],
   "source": [
    "# Analyze the length of emails\n",
    "data['length'] = data['content'].apply(len)\n",
    "\n",
    "plt.figure(figsize=(10, 6))\n",
    "sns.histplot(data=data, x='length', hue='label', bins=30, kde=True)\n",
    "plt.title('Email Length Distribution by Label')\n",
    "plt.xlabel('Length of Email')\n",
    "plt.ylabel('Density')\n",
    "plt.show()"
   ]
  },
  {
   "cell_type": "code",
   "execution_count": 5,
   "metadata": {},
   "outputs": [],
   "source": [
    "# Most common words in spam and non-spam emails\n",
    "from sklearn.feature_extraction.text import CountVectorizer\n",
    "\n",
    "vectorizer = CountVectorizer(stop_words='english')\n",
    "X = vectorizer.fit_transform(data['content'])\n",
    "word_counts = X.toarray().sum(axis=0)\n",
    "words = vectorizer.get_feature_names_out()\n",
    "\n",
    "word_freq = pd.DataFrame({'word': words, 'count': word_counts})\n",
    "word_freq = word_freq.sort_values(by='count', ascending=False)\n",
    "\n",
    "# Display the top 10 most common words\n",
    "top_words = word_freq.head(10)\n",
    "plt.figure(figsize=(10, 6))\n",
    "sns.barplot(x='count', y='word', data=top_words)\n",
    "plt.title('Top 10 Most Common Words in Emails')\n",
    "plt.xlabel('Count')\n",
    "plt.ylabel('Word')\n",
    "plt.show()"
   ]
  }
 ],
 "metadata": {
  "kernelspec": {
   "display_name": "Python 3",
   "language": "python",
   "name": "python3"
  },
  "language_info": {
   "codemirror_mode": {
    "name": "ipython",
    "version": 3
   },
   "file_extension": ".py",
   "mimetype": "text/x-python",
   "name": "python",
   "nbconvert_exporter": "python",
   "pygments_lexer": "ipython3",
   "version": "3.8.5"
  }
 },
 "nbformat": 4,
 "nbformat_minor": 4
}