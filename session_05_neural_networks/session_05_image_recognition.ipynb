{
 "cells": [
  {
   "cell_type": "markdown",
   "metadata": {},
   "source": [
    "## Build a handwritten digit recognition application\n"
   ]
  },
  {
   "cell_type": "code",
   "execution_count": 1,
   "metadata": {},
   "outputs": [],
   "source": [
    "import torch\n",
    "import torch.nn as nn\n",
    "import torch.optim as optim\n",
    "import torchvision\n",
    "import torchvision.transforms as transforms\n",
    "from torch.utils.data import DataLoader\n",
    "import matplotlib.pyplot as plt"
   ]
  },
  {
   "cell_type": "code",
   "execution_count": 2,
   "metadata": {},
   "outputs": [],
   "source": [
    "# Load and preprocess the MNIST dataset\n",
    "transform = transforms.Compose([\n",
    "    transforms.ToTensor(),\n",
    "    transforms.Normalize((0.1307,), (0.3081,))\n",
    "])\n",
    "\n",
    "train_dataset = torchvision.datasets.MNIST(\n",
    "    root='./data', \n",
    "    train=True, \n",
    "    download=True, \n",
    "    transform=transform\n",
    ")\n",
    "\n",
    "test_dataset = torchvision.datasets.MNIST(\n",
    "    root='./data', \n",
    "    train=False, \n",
    "    download=True, \n",
    "    transform=transform\n",
    ")\n",
    "\n",
    "# Create data loaders\n",
    "train_loader = DataLoader(train_dataset, batch_size=64, shuffle=True)\n",
    "test_loader = DataLoader(test_dataset, batch_size=64, shuffle=False)\n"
   ]
  },
  {
   "cell_type": "code",
   "execution_count": 3,
   "metadata": {},
   "outputs": [
    {
     "name": "stdout",
     "output_type": "stream",
     "text": [
      "Training dataset size: 60000\n",
      "Test dataset size: 10000\n"
     ]
    },
    {
     "data": {
      "image/png": "[encoded data removed]",
      "text/plain": [
       "<Figure size 1200x600 with 10 Axes>"
      ]
     },
     "metadata": {},
     "output_type": "display_data"
    },
    {
     "name": "stdout",
     "output_type": "stream",
     "text": [
      "\n",
      "Image shape: torch.Size([1, 28, 28])\n",
      "\n",
      "Class distribution in training set:\n",
      "Digit 0: 5923 samples\n",
      "Digit 1: 6742 samples\n",
      "Digit 2: 5958 samples\n",
      "Digit 3: 6131 samples\n",
      "Digit 4: 5842 samples\n",
      "Digit 5: 5421 samples\n",
      "Digit 6: 5918 samples\n",
      "Digit 7: 6265 samples\n",
      "Digit 8: 5851 samples\n",
      "Digit 9: 5949 samples\n"
     ]
    }
   ],
   "source": [
    "# Print dataset sizes\n",
    "print(f\"Training dataset size: {len(train_dataset)}\")\n",
    "print(f\"Test dataset size: {len(test_dataset)}\")\n",
    "\n",
    "\n",
    "\n",
    "# Display a grid of sample images\n",
    "fig, axes = plt.subplots(2, 5, figsize=(12, 6))\n",
    "for i, ax in enumerate(axes.flat):\n",
    "    # Get a sample image and its label\n",
    "    image, label = train_dataset[i]\n",
    "    # Convert the tensor to numpy and reshape\n",
    "    image = image.squeeze().numpy()\n",
    "    # Display the image\n",
    "    ax.imshow(image, cmap='gray')\n",
    "    ax.axis('off')\n",
    "    ax.set_title(f'Label: {label}')\n",
    "plt.tight_layout()\n",
    "plt.show()\n",
    "\n",
    "# Print the shape of a single image\n",
    "image, _ = train_dataset[0]\n",
    "print(f\"\\nImage shape: {image.shape}\")\n",
    "\n",
    "# Print class distribution\n",
    "from collections import Counter\n",
    "train_labels = [label for _, label in train_dataset]\n",
    "label_counts = Counter(train_labels)\n",
    "print(\"\\nClass distribution in training set:\")\n",
    "for label, count in sorted(label_counts.items()):\n",
    "    print(f\"Digit {label}: {count} samples\")"
   ]
  },
  {
   "cell_type": "code",
   "execution_count": 4,
   "metadata": {},
   "outputs": [],
   "source": [
    "# Set random seed for reproducibility\n",
    "torch.manual_seed(42)\n",
    "\n",
    "# Define the neural network\n",
    "class Net(nn.Module):\n",
    "    def __init__(self):\n",
    "        super(Net, self).__init__()\n",
    "        self.flatten = nn.Flatten()\n",
    "        self.linear_relu_stack = nn.Sequential(\n",
    "            nn.Linear(28*28, 512),\n",
    "            nn.ReLU(),\n",
    "            nn.Linear(512, 512),\n",
    "            nn.ReLU(),\n",
    "            nn.Linear(512, 10)\n",
    "        )\n",
    "\n",
    "    def forward(self, x):\n",
    "        x = self.flatten(x)\n",
    "        logits = self.linear_relu_stack(x)\n",
    "        return logits\n",
    "    \n",
    "\n",
    "class ConvNet(nn.Module):\n",
    "    def __init__(self):\n",
    "        super(ConvNet, self).__init__()\n",
    "        self.conv_layers = nn.Sequential(\n",
    "            # First convolutional block\n",
    "            nn.Conv2d(1, 32, kernel_size=3, padding=1),\n",
    "            nn.ReLU(),\n",
    "            nn.BatchNorm2d(32),\n",
    "            nn.Conv2d(32, 32, kernel_size=3, padding=1),\n",
    "            nn.ReLU(),\n",
    "            nn.BatchNorm2d(32),\n",
    "            nn.MaxPool2d(2),\n",
    "            nn.Dropout(0.25),\n",
    "            \n",
    "            # Second convolutional block\n",
    "            nn.Conv2d(32, 64, kernel_size=3, padding=1),\n",
    "            nn.ReLU(),\n",
    "            nn.BatchNorm2d(64),\n",
    "            nn.Conv2d(64, 64, kernel_size=3, padding=1),\n",
    "            nn.ReLU(),\n",
    "            nn.BatchNorm2d(64),\n",
    "            nn.MaxPool2d(2),\n",
    "            nn.Dropout(0.25)\n",
    "        )\n",
    "        \n",
    "        self.classifier = nn.Sequential(\n",
    "            nn.Flatten(),\n",
    "            nn.Linear(64 * 7 * 7, 512),\n",
    "            nn.ReLU(),\n",
    "            nn.Dropout(0.5),\n",
    "            nn.Linear(512, 10)\n",
    "        )\n",
    "    \n",
    "    def forward(self, x):\n",
    "        x = self.conv_layers(x)\n",
    "        x = self.classifier(x)\n",
    "        return x\n"
   ]
  },
  {
   "cell_type": "code",
   "execution_count": 5,
   "metadata": {},
   "outputs": [],
   "source": [
    "\n",
    "# Initialize the model, loss function, and optimizer\n",
    "device = torch.device('cuda' if torch.cuda.is_available() else 'cpu')\n",
    "model = ConvNet().to(device)\n",
    "criterion = nn.CrossEntropyLoss()\n",
    "optimizer = optim.Adam(model.parameters(), lr=0.001)"
   ]
  },
  {
   "cell_type": "code",
   "execution_count": 6,
   "metadata": {},
   "outputs": [
    {
     "name": "stdout",
     "output_type": "stream",
     "text": [
      "Training started...\n",
      "Epoch 1, Batch 100: Loss = 0.502\n",
      "Epoch 1, Batch 200: Loss = 0.151\n",
      "Epoch 1, Batch 300: Loss = 0.123\n",
      "Epoch 1, Batch 400: Loss = 0.093\n",
      "Epoch 1, Batch 500: Loss = 0.095\n",
      "Epoch 1, Batch 600: Loss = 0.104\n",
      "Epoch 1, Batch 700: Loss = 0.076\n",
      "Epoch 1, Batch 800: Loss = 0.078\n",
      "Epoch 1, Batch 900: Loss = 0.077\n",
      "Epoch 2, Batch 100: Loss = 0.071\n",
      "Epoch 2, Batch 200: Loss = 0.078\n",
      "Epoch 2, Batch 300: Loss = 0.066\n",
      "Epoch 2, Batch 400: Loss = 0.074\n",
      "Epoch 2, Batch 500: Loss = 0.079\n",
      "Epoch 2, Batch 600: Loss = 0.071\n",
      "Epoch 2, Batch 700: Loss = 0.068\n",
      "Epoch 2, Batch 800: Loss = 0.057\n",
      "Epoch 2, Batch 900: Loss = 0.063\n",
      "Epoch 3, Batch 100: Loss = 0.048\n",
      "Epoch 3, Batch 200: Loss = 0.067\n",
      "Epoch 3, Batch 300: Loss = 0.059\n",
      "Epoch 3, Batch 400: Loss = 0.053\n",
      "Epoch 3, Batch 500: Loss = 0.059\n",
      "Epoch 3, Batch 600: Loss = 0.059\n",
      "Epoch 3, Batch 700: Loss = 0.046\n",
      "Epoch 3, Batch 800: Loss = 0.055\n"
     ]
    },
    {
     "ename": "KeyboardInterrupt",
     "evalue": "",
     "output_type": "error",
     "traceback": [
      "\u001b[0;31m---------------------------------------------------------------------------\u001b[0m",
      "\u001b[0;31mKeyboardInterrupt\u001b[0m                         Traceback (most recent call last)",
      "Cell \u001b[0;32mIn[6], line 22\u001b[0m\n\u001b[1;32m     20\u001b[0m \u001b[38;5;66;03m# Train the model\u001b[39;00m\n\u001b[1;32m     21\u001b[0m \u001b[38;5;28mprint\u001b[39m(\u001b[38;5;124m\"\u001b[39m\u001b[38;5;124mTraining started...\u001b[39m\u001b[38;5;124m\"\u001b[39m)\n\u001b[0;32m---> 22\u001b[0m \u001b[43mtrain\u001b[49m\u001b[43m(\u001b[49m\u001b[43mepochs\u001b[49m\u001b[38;5;241;43m=\u001b[39;49m\u001b[38;5;241;43m5\u001b[39;49m\u001b[43m)\u001b[49m\n",
      "Cell \u001b[0;32mIn[6], line 12\u001b[0m, in \u001b[0;36mtrain\u001b[0;34m(epochs)\u001b[0m\n\u001b[1;32m     10\u001b[0m outputs \u001b[38;5;241m=\u001b[39m model(images)\n\u001b[1;32m     11\u001b[0m loss \u001b[38;5;241m=\u001b[39m criterion(outputs, labels)\n\u001b[0;32m---> 12\u001b[0m \u001b[43mloss\u001b[49m\u001b[38;5;241;43m.\u001b[39;49m\u001b[43mbackward\u001b[49m\u001b[43m(\u001b[49m\u001b[43m)\u001b[49m\n\u001b[1;32m     13\u001b[0m optimizer\u001b[38;5;241m.\u001b[39mstep()\n\u001b[1;32m     15\u001b[0m running_loss \u001b[38;5;241m+\u001b[39m\u001b[38;5;241m=\u001b[39m loss\u001b[38;5;241m.\u001b[39mitem()\n",
      "File \u001b[0;32m~/Desktop/code/.venv/lib/python3.9/site-packages/torch/_tensor.py:581\u001b[0m, in \u001b[0;36mTensor.backward\u001b[0;34m(self, gradient, retain_graph, create_graph, inputs)\u001b[0m\n\u001b[1;32m    571\u001b[0m \u001b[38;5;28;01mif\u001b[39;00m has_torch_function_unary(\u001b[38;5;28mself\u001b[39m):\n\u001b[1;32m    572\u001b[0m     \u001b[38;5;28;01mreturn\u001b[39;00m handle_torch_function(\n\u001b[1;32m    573\u001b[0m         Tensor\u001b[38;5;241m.\u001b[39mbackward,\n\u001b[1;32m    574\u001b[0m         (\u001b[38;5;28mself\u001b[39m,),\n\u001b[0;32m   (...)\u001b[0m\n\u001b[1;32m    579\u001b[0m         inputs\u001b[38;5;241m=\u001b[39minputs,\n\u001b[1;32m    580\u001b[0m     )\n\u001b[0;32m--> 581\u001b[0m \u001b[43mtorch\u001b[49m\u001b[38;5;241;43m.\u001b[39;49m\u001b[43mautograd\u001b[49m\u001b[38;5;241;43m.\u001b[39;49m\u001b[43mbackward\u001b[49m\u001b[43m(\u001b[49m\n\u001b[1;32m    582\u001b[0m \u001b[43m    \u001b[49m\u001b[38;5;28;43mself\u001b[39;49m\u001b[43m,\u001b[49m\u001b[43m \u001b[49m\u001b[43mgradient\u001b[49m\u001b[43m,\u001b[49m\u001b[43m \u001b[49m\u001b[43mretain_graph\u001b[49m\u001b[43m,\u001b[49m\u001b[43m \u001b[49m\u001b[43mcreate_graph\u001b[49m\u001b[43m,\u001b[49m\u001b[43m \u001b[49m\u001b[43minputs\u001b[49m\u001b[38;5;241;43m=\u001b[39;49m\u001b[43minputs\u001b[49m\n\u001b[1;32m    583\u001b[0m \u001b[43m\u001b[49m\u001b[43m)\u001b[49m\n",
      "File \u001b[0;32m~/Desktop/code/.venv/lib/python3.9/site-packages/torch/autograd/__init__.py:347\u001b[0m, in \u001b[0;36mbackward\u001b[0;34m(tensors, grad_tensors, retain_graph, create_graph, grad_variables, inputs)\u001b[0m\n\u001b[1;32m    342\u001b[0m     retain_graph \u001b[38;5;241m=\u001b[39m create_graph\n\u001b[1;32m    344\u001b[0m \u001b[38;5;66;03m# The reason we repeat the same comment below is that\u001b[39;00m\n\u001b[1;32m    345\u001b[0m \u001b[38;5;66;03m# some Python versions print out the first line of a multi-line function\u001b[39;00m\n\u001b[1;32m    346\u001b[0m \u001b[38;5;66;03m# calls in the traceback and some print out the last line\u001b[39;00m\n\u001b[0;32m--> 347\u001b[0m \u001b[43m_engine_run_backward\u001b[49m\u001b[43m(\u001b[49m\n\u001b[1;32m    348\u001b[0m \u001b[43m    \u001b[49m\u001b[43mtensors\u001b[49m\u001b[43m,\u001b[49m\n\u001b[1;32m    349\u001b[0m \u001b[43m    \u001b[49m\u001b[43mgrad_tensors_\u001b[49m\u001b[43m,\u001b[49m\n\u001b[1;32m    350\u001b[0m \u001b[43m    \u001b[49m\u001b[43mretain_graph\u001b[49m\u001b[43m,\u001b[49m\n\u001b[1;32m    351\u001b[0m \u001b[43m    \u001b[49m\u001b[43mcreate_graph\u001b[49m\u001b[43m,\u001b[49m\n\u001b[1;32m    352\u001b[0m \u001b[43m    \u001b[49m\u001b[43minputs\u001b[49m\u001b[43m,\u001b[49m\n\u001b[1;32m    353\u001b[0m \u001b[43m    \u001b[49m\u001b[43mallow_unreachable\u001b[49m\u001b[38;5;241;43m=\u001b[39;49m\u001b[38;5;28;43;01mTrue\u001b[39;49;00m\u001b[43m,\u001b[49m\n\u001b[1;32m    354\u001b[0m \u001b[43m    \u001b[49m\u001b[43maccumulate_grad\u001b[49m\u001b[38;5;241;43m=\u001b[39;49m\u001b[38;5;28;43;01mTrue\u001b[39;49;00m\u001b[43m,\u001b[49m\n\u001b[1;32m    355\u001b[0m \u001b[43m\u001b[49m\u001b[43m)\u001b[49m\n",
      "File \u001b[0;32m~/Desktop/code/.venv/lib/python3.9/site-packages/torch/autograd/graph.py:825\u001b[0m, in \u001b[0;36m_engine_run_backward\u001b[0;34m(t_outputs, *args, **kwargs)\u001b[0m\n\u001b[1;32m    823\u001b[0m     unregister_hooks \u001b[38;5;241m=\u001b[39m _register_logging_hooks_on_whole_graph(t_outputs)\n\u001b[1;32m    824\u001b[0m \u001b[38;5;28;01mtry\u001b[39;00m:\n\u001b[0;32m--> 825\u001b[0m     \u001b[38;5;28;01mreturn\u001b[39;00m \u001b[43mVariable\u001b[49m\u001b[38;5;241;43m.\u001b[39;49m\u001b[43m_execution_engine\u001b[49m\u001b[38;5;241;43m.\u001b[39;49m\u001b[43mrun_backward\u001b[49m\u001b[43m(\u001b[49m\u001b[43m  \u001b[49m\u001b[38;5;66;43;03m# Calls into the C++ engine to run the backward pass\u001b[39;49;00m\n\u001b[1;32m    826\u001b[0m \u001b[43m        \u001b[49m\u001b[43mt_outputs\u001b[49m\u001b[43m,\u001b[49m\u001b[43m \u001b[49m\u001b[38;5;241;43m*\u001b[39;49m\u001b[43margs\u001b[49m\u001b[43m,\u001b[49m\u001b[43m \u001b[49m\u001b[38;5;241;43m*\u001b[39;49m\u001b[38;5;241;43m*\u001b[39;49m\u001b[43mkwargs\u001b[49m\n\u001b[1;32m    827\u001b[0m \u001b[43m    \u001b[49m\u001b[43m)\u001b[49m  \u001b[38;5;66;03m# Calls into the C++ engine to run the backward pass\u001b[39;00m\n\u001b[1;32m    828\u001b[0m \u001b[38;5;28;01mfinally\u001b[39;00m:\n\u001b[1;32m    829\u001b[0m     \u001b[38;5;28;01mif\u001b[39;00m attach_logging_hooks:\n",
      "\u001b[0;31mKeyboardInterrupt\u001b[0m: "
     ]
    }
   ],
   "source": [
    "\n",
    "\n",
    "# Training loop\n",
    "def train(epochs):\n",
    "    model.train()\n",
    "    for epoch in range(epochs):\n",
    "        running_loss = 0.0\n",
    "        for i, (images, labels) in enumerate(train_loader):\n",
    "            images, labels = images.to(device), labels.to(device)\n",
    "            \n",
    "            optimizer.zero_grad()\n",
    "            outputs = model(images)\n",
    "            loss = criterion(outputs, labels)\n",
    "            loss.backward()\n",
    "            optimizer.step()\n",
    "            \n",
    "            running_loss += loss.item()\n",
    "            if i % 100 == 99:\n",
    "                print(f'Epoch {epoch + 1}, Batch {i + 1}: Loss = {running_loss / 100:.3f}')\n",
    "                running_loss = 0.0\n",
    "\n",
    "# Train the model\n",
    "print(\"Training started...\")\n",
    "train(epochs=5)\n",
    "\n"
   ]
  },
  {
   "cell_type": "code",
   "execution_count": 7,
   "metadata": {},
   "outputs": [
    {
     "data": {
      "text/plain": [
       "'model_architecture.png'"
      ]
     },
     "execution_count": 7,
     "metadata": {},
     "output_type": "execute_result"
    }
   ],
   "source": [
    "# lets visualize the model\n",
    "# on your terminal run `brew install graphviz`\n",
    "from torchviz import make_dot\n",
    "# get a sample input from the test dataset\n",
    "image, _ = test_dataset[0]\n",
    "sample_input = image.unsqueeze(0).to(device)\n",
    "output = model(sample_input)\n",
    "dot = make_dot(output, params=dict(list(model.named_parameters())))\n",
    "dot.render(\"model_architecture\", format=\"png\")\n"
   ]
  },
  {
   "cell_type": "code",
   "execution_count": 8,
   "metadata": {},
   "outputs": [
    {
     "name": "stdout",
     "output_type": "stream",
     "text": [
      "\n",
      "Testing the model...\n",
      "Accuracy on test set: 99.30%\n"
     ]
    }
   ],
   "source": [
    "# Testing function\n",
    "def test():\n",
    "    model.eval()\n",
    "    correct = 0\n",
    "    total = 0\n",
    "    with torch.no_grad():\n",
    "        for images, labels in test_loader:\n",
    "            images, labels = images.to(device), labels.to(device)\n",
    "            outputs = model(images)\n",
    "            _, predicted = torch.max(outputs.data, 1)\n",
    "            total += labels.size(0)\n",
    "            correct += (predicted == labels).sum().item()\n",
    "    \n",
    "    print(f'Accuracy on test set: {100 * correct / total:.2f}%')\n",
    "\n",
    "\n",
    "\n",
    "# Test the model\n",
    "print(\"\\nTesting the model...\")\n",
    "test()"
   ]
  },
  {
   "cell_type": "code",
   "execution_count": 9,
   "metadata": {},
   "outputs": [
    {
     "data": {
      "image/png": "[encoded data removed]",
      "text/plain": [
       "<Figure size 1500x600 with 10 Axes>"
      ]
     },
     "metadata": {},
     "output_type": "display_data"
    }
   ],
   "source": [
    "# Visualize the model predictions vs the actual labels and the image for a few samples where the model made a mistake\n",
    "\n",
    "# Get predictions and actual labels for misclassified examples\n",
    "model.eval()\n",
    "misclassified_examples = []\n",
    "with torch.no_grad():\n",
    "    for images, labels in test_loader:\n",
    "        images, labels = images.to(device), labels.to(device)\n",
    "        outputs = model(images)\n",
    "        _, predicted = torch.max(outputs.data, 1)\n",
    "        \n",
    "        # Find indices where predictions were wrong\n",
    "        mask = (predicted != labels)\n",
    "        misclassified_images = images[mask]\n",
    "        misclassified_labels = labels[mask]\n",
    "        misclassified_preds = predicted[mask]\n",
    "        \n",
    "        # Store the first few misclassified examples\n",
    "        for img, true_label, pred_label in zip(misclassified_images, misclassified_labels, misclassified_preds):\n",
    "            misclassified_examples.append((img, true_label.item(), pred_label.item()))\n",
    "            if len(misclassified_examples) >= 10:  # Store only first 10 mistakes\n",
    "                break\n",
    "        if len(misclassified_examples) >= 10:\n",
    "            break\n",
    "\n",
    "# Display the misclassified examples\n",
    "fig, axes = plt.subplots(2, 5, figsize=(15, 6))\n",
    "for i, (img, true_label, pred_label) in enumerate(misclassified_examples[:10]):\n",
    "    ax = axes[i//5, i%5]\n",
    "    # Convert the tensor to numpy and reshape\n",
    "    img = img.cpu().squeeze().numpy()\n",
    "    # Display the image\n",
    "    ax.imshow(img, cmap='gray')\n",
    "    ax.axis('off')\n",
    "    ax.set_title(f'True: {true_label}\\nPred: {pred_label}')\n",
    "plt.suptitle('Misclassified Examples', y=1.05)\n",
    "plt.tight_layout()\n",
    "plt.show()"
   ]
  },
  {
   "cell_type": "code",
   "execution_count": 10,
   "metadata": {},
   "outputs": [
    {
     "name": "stderr",
     "output_type": "stream",
     "text": [
      "/Users/amirhosseinmohajerani/Desktop/code/.venv/lib/python3.9/site-packages/tqdm/auto.py:21: TqdmWarning: IProgress not found. Please update jupyter and ipywidgets. See https://ipywidgets.readthedocs.io/en/stable/user_install.html\n",
      "  from .autonotebook import tqdm as notebook_tqdm\n"
     ]
    },
    {
     "name": "stdout",
     "output_type": "stream",
     "text": [
      "Running on local URL:  http://127.0.0.1:7860\n",
      "Running on public URL: https://409bf59005199face7.gradio.live\n",
      "\n",
      "This share link expires in 72 hours. For free permanent hosting and GPU upgrades, run `gradio deploy` from Terminal to deploy to Spaces (https://huggingface.co/spaces)\n"
     ]
    },
    {
     "data": {
      "text/html": [
       "<div><iframe src=\"https://409bf59005199face7.gradio.live\" width=\"100%\" height=\"500\" allow=\"autoplay; camera; microphone; clipboard-read; clipboard-write;\" frameborder=\"0\" allowfullscreen></iframe></div>"
      ],
      "text/plain": [
       "<IPython.core.display.HTML object>"
      ]
     },
     "metadata": {},
     "output_type": "display_data"
    },
    {
     "data": {
      "text/plain": []
     },
     "execution_count": 10,
     "metadata": {},
     "output_type": "execute_result"
    },
    {
     "name": "stderr",
     "output_type": "stream",
     "text": [
      "ERROR:    Exception in ASGI application\n",
      "Traceback (most recent call last):\n",
      "  File \"/Users/amirhosseinmohajerani/Desktop/code/.venv/lib/python3.9/site-packages/gradio/routes.py\", line 432, in main\n",
      "  File \"/Users/amirhosseinmohajerani/Desktop/code/.venv/lib/python3.9/site-packages/starlette/templating.py\", line 208, in TemplateResponse\n",
      "  File \"/Users/amirhosseinmohajerani/Desktop/code/.venv/lib/python3.9/site-packages/starlette/templating.py\", line 131, in get_template\n",
      "  File \"/Users/amirhosseinmohajerani/Desktop/code/.venv/lib/python3.9/site-packages/jinja2/environment.py\", line 1016, in get_template\n",
      "  File \"/Users/amirhosseinmohajerani/Desktop/code/.venv/lib/python3.9/site-packages/jinja2/environment.py\", line 975, in _load_template\n",
      "  File \"/Users/amirhosseinmohajerani/Desktop/code/.venv/lib/python3.9/site-packages/jinja2/loaders.py\", line 126, in load\n",
      "  File \"/Users/amirhosseinmohajerani/Desktop/code/.venv/lib/python3.9/site-packages/jinja2/loaders.py\", line 209, in get_source\n",
      "jinja2.exceptions.TemplateNotFound: 'frontend/share.html' not found in search path: '/Users/amirhosseinmohajerani/Desktop/code/.venv/lib/python3.9/site-packages/gradio/templates'\n",
      "\n",
      "The above exception was the direct cause of the following exception:\n",
      "\n",
      "Traceback (most recent call last):\n",
      "  File \"/Users/amirhosseinmohajerani/Desktop/code/.venv/lib/python3.9/site-packages/uvicorn/protocols/http/h11_impl.py\", line 403, in run_asgi\n",
      "  File \"/Users/amirhosseinmohajerani/Desktop/code/.venv/lib/python3.9/site-packages/uvicorn/middleware/proxy_headers.py\", line 60, in __call__\n",
      "  File \"/Users/amirhosseinmohajerani/Desktop/code/.venv/lib/python3.9/site-packages/fastapi/applications.py\", line 1054, in __call__\n",
      "  File \"/Users/amirhosseinmohajerani/Desktop/code/.venv/lib/python3.9/site-packages/starlette/applications.py\", line 113, in __call__\n",
      "  File \"/Users/amirhosseinmohajerani/Desktop/code/.venv/lib/python3.9/site-packages/starlette/middleware/errors.py\", line 187, in __call__\n",
      "  File \"/Users/amirhosseinmohajerani/Desktop/code/.venv/lib/python3.9/site-packages/starlette/middleware/errors.py\", line 165, in __call__\n",
      "  File \"/Users/amirhosseinmohajerani/Desktop/code/.venv/lib/python3.9/site-packages/gradio/route_utils.py\", line 761, in __call__\n",
      "  File \"/Users/amirhosseinmohajerani/Desktop/code/.venv/lib/python3.9/site-packages/starlette/middleware/exceptions.py\", line 62, in __call__\n",
      "  File \"/Users/amirhosseinmohajerani/Desktop/code/.venv/lib/python3.9/site-packages/starlette/_exception_handler.py\", line 53, in wrapped_app\n",
      "  File \"/Users/amirhosseinmohajerani/Desktop/code/.venv/lib/python3.9/site-packages/starlette/_exception_handler.py\", line 42, in wrapped_app\n",
      "  File \"/Users/amirhosseinmohajerani/Desktop/code/.venv/lib/python3.9/site-packages/starlette/routing.py\", line 715, in __call__\n",
      "  File \"/Users/amirhosseinmohajerani/Desktop/code/.venv/lib/python3.9/site-packages/starlette/routing.py\", line 735, in app\n",
      "  File \"/Users/amirhosseinmohajerani/Desktop/code/.venv/lib/python3.9/site-packages/starlette/routing.py\", line 288, in handle\n",
      "  File \"/Users/amirhosseinmohajerani/Desktop/code/.venv/lib/python3.9/site-packages/starlette/routing.py\", line 76, in app\n",
      "  File \"/Users/amirhosseinmohajerani/Desktop/code/.venv/lib/python3.9/site-packages/starlette/_exception_handler.py\", line 53, in wrapped_app\n",
      "  File \"/Users/amirhosseinmohajerani/Desktop/code/.venv/lib/python3.9/site-packages/starlette/_exception_handler.py\", line 42, in wrapped_app\n",
      "  File \"/Users/amirhosseinmohajerani/Desktop/code/.venv/lib/python3.9/site-packages/starlette/routing.py\", line 73, in app\n",
      "  File \"/Users/amirhosseinmohajerani/Desktop/code/.venv/lib/python3.9/site-packages/fastapi/routing.py\", line 301, in app\n",
      "  File \"/Users/amirhosseinmohajerani/Desktop/code/.venv/lib/python3.9/site-packages/fastapi/routing.py\", line 214, in run_endpoint_function\n",
      "  File \"/Users/amirhosseinmohajerani/Desktop/code/.venv/lib/python3.9/site-packages/starlette/concurrency.py\", line 39, in run_in_threadpool\n",
      "  File \"/Users/amirhosseinmohajerani/Desktop/code/.venv/lib/python3.9/site-packages/anyio/to_thread.py\", line 56, in run_sync\n",
      "  File \"/Users/amirhosseinmohajerani/Desktop/code/.venv/lib/python3.9/site-packages/anyio/_backends/_asyncio.py\", line 2461, in run_sync_in_worker_thread\n",
      "  File \"/Users/amirhosseinmohajerani/Desktop/code/.venv/lib/python3.9/site-packages/anyio/_backends/_asyncio.py\", line 962, in run\n",
      "  File \"/Users/amirhosseinmohajerani/Desktop/code/.venv/lib/python3.9/site-packages/gradio/routes.py\", line 442, in main\n",
      "ValueError: Did you install Gradio from source files? Share mode only works when Gradio is installed through the pip package.\n"
     ]
    }
   ],
   "source": [
    "# build a simple web app to recognize digits using gradio. The app should have a sketchpad to draw a digit and the app should predict the digit.\n",
    "import gradio as gr\n",
    "import torch\n",
    "import numpy as np\n",
    "from PIL import Image\n",
    "\n",
    "def predict_digit(image):\n",
    "    # Preprocess the image\n",
    "    if image is None:\n",
    "        return None\n",
    "    \n",
    "    try:\n",
    "        # Extract the actual image data from the Gradio input\n",
    "        if isinstance(image, dict):\n",
    "            image = image['composite']\n",
    "        \n",
    "        # Convert to grayscale and resize to 28x28\n",
    "        image = Image.fromarray(image).convert('L')\n",
    "        image = image.resize((28, 28))\n",
    "        \n",
    "        # Convert to tensor and normalize\n",
    "        image = torch.tensor(np.array(image), dtype=torch.float32)\n",
    "        image = image / 255.0  # Normalize to [0,1]\n",
    "        image = (image - 0.1307) / 0.3081  # Apply same normalization as training data\n",
    "        \n",
    "        # Reshape and add batch dimension\n",
    "        image = image.reshape(1, 1, 28, 28)\n",
    "        image = image.to(device)\n",
    "        \n",
    "        # Make prediction\n",
    "        model.eval()\n",
    "        with torch.no_grad():\n",
    "            output = model(image)\n",
    "            probabilities = torch.nn.functional.softmax(output, dim=1)[0]\n",
    "            \n",
    "            # Get all probabilities and sort them\n",
    "            probs_with_labels = [(digit, prob.item()) for digit, prob in enumerate(probabilities)]\n",
    "            sorted_probs = sorted(probs_with_labels, key=lambda x: x[1], reverse=True)\n",
    "            \n",
    "            # Format the output\n",
    "            result = \"Predictions (sorted by confidence):\\n\\n\"\n",
    "            for digit, prob in sorted_probs:\n",
    "                result += f\"Digit {digit}: {prob:.2%}\\n\"\n",
    "            \n",
    "            return result\n",
    "    \n",
    "    except Exception as e:\n",
    "        return f\"Error processing image: {str(e)}\"\n",
    "\n",
    "\n",
    "# Create Gradio interface\n",
    "iface = gr.Interface(\n",
    "    fn=predict_digit,\n",
    "    inputs=gr.Sketchpad(),\n",
    "    outputs=\"text\",\n",
    "    live=True,\n",
    "    title=\"Handwritten Digit Recognition\",\n",
    "    description=\"Draw a digit (0-9) and the model will predict it in real-time!\",\n",
    "    examples=[],\n",
    ")\n",
    "\n",
    "# Launch the app\n",
    "iface.launch(share=True)"
   ]
  },
  {
   "cell_type": "code",
   "execution_count": null,
   "metadata": {},
   "outputs": [],
   "source": []
  }
 ],
 "metadata": {
  "kernelspec": {
   "display_name": ".venv",
   "language": "python",
   "name": "python3"
  },
  "language_info": {
   "codemirror_mode": {
    "name": "ipython",
    "version": 3
   },
   "file_extension": ".py",
   "mimetype": "text/x-python",
   "name": "python",
   "nbconvert_exporter": "python",
   "pygments_lexer": "ipython3",
   "version": "3.9.6"
  }
 },
 "nbformat": 4,
 "nbformat_minor": 2
}
