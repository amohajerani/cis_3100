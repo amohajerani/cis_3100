{
 "cells": [
  {
   "cell_type": "code",
   "execution_count": 28,
   "metadata": {},
   "outputs": [
    {
     "name": "stdout",
     "output_type": "stream",
     "text": [
      "Running on local URL:  http://127.0.0.1:7885\n",
      "\n",
      "To create a public link, set `share=True` in `launch()`.\n"
     ]
    },
    {
     "data": {
      "text/html": [
       "<div><iframe src=\"http://127.0.0.1:7885/\" width=\"100%\" height=\"500\" allow=\"autoplay; camera; microphone; clipboard-read; clipboard-write;\" frameborder=\"0\" allowfullscreen></iframe></div>"
      ],
      "text/plain": [
       "<IPython.core.display.HTML object>"
      ]
     },
     "metadata": {},
     "output_type": "display_data"
    },
    {
     "data": {
      "text/plain": []
     },
     "execution_count": 28,
     "metadata": {},
     "output_type": "execute_result"
    }
   ],
   "source": [
    "import numpy as np\n",
    "import gradio as gr\n",
    "import matplotlib.pyplot as plt\n",
    "from sklearn.preprocessing import PolynomialFeatures\n",
    "from sklearn.linear_model import LinearRegression\n",
    "from sklearn.model_selection import train_test_split\n",
    "from sklearn.metrics import mean_squared_error\n",
    "\n",
    "\n",
    "# Generate synthetic data\n",
    "def generate_data(n_samples=50):\n",
    "    np.random.seed(42)\n",
    "    X = np.linspace(-1, 1, n_samples).reshape(-1, 1)\n",
    "    y = np.sin(X*np.pi) + np.random.normal(0, 0.2, size=X.shape)\n",
    "    return X, y\n",
    "\n",
    "# Train model and create visualizations\n",
    "def train_and_visualize(degree):\n",
    "    # Convert degree to int\n",
    "    degree = int(degree)\n",
    "    \n",
    "    # Generate and split data\n",
    "    X, y = generate_data()\n",
    "    X_train, X_test, y_train, y_test = train_test_split(X, y, test_size=0.2, random_state=42)\n",
    "    \n",
    "    # Create polynomial features\n",
    "    poly = PolynomialFeatures(degree=degree)\n",
    "    X_train_poly = poly.fit_transform(X_train)\n",
    "    X_test_poly = poly.transform(X_test)\n",
    "    \n",
    "    # Train model\n",
    "    model = LinearRegression()\n",
    "    model.fit(X_train_poly, y_train)\n",
    "    \n",
    "    # Generate predictions for smooth curve\n",
    "    X_plot = np.linspace(-1, 1, 200).reshape(-1, 1)\n",
    "    X_plot_poly = poly.transform(X_plot)\n",
    "    y_plot = model.predict(X_plot_poly)\n",
    "    \n",
    "    # Calculate scores\n",
    "    train_rmse = np.sqrt(mean_squared_error(y_train, model.predict(X_train_poly)))\n",
    "    test_rmse = np.sqrt(mean_squared_error(y_test, model.predict(X_test_poly)))\n",
    "    \n",
    "    \n",
    "    # Create visualization\n",
    "    plt.figure(figsize=(10, 6))\n",
    "    plt.scatter(X_train, y_train, color='blue', label='Training data')\n",
    "    plt.scatter(X_test, y_test, color='red', label='Test data')\n",
    "    plt.plot(X_plot, y_plot, color='green', label=f'Polynomial (degree={degree})')\n",
    "    plt.xlabel('X')\n",
    "    plt.ylabel('y')\n",
    "    plt.title(f'Polynomial (degree={degree})\\nTrain RMSE: {train_rmse:.3f}\\nTest RMSE: {test_rmse:.3f}')\n",
    "    plt.legend()\n",
    "    plt.grid(True)\n",
    "    \n",
    "    return plt.gcf(), f'{train_rmse:.3f}', f'{test_rmse:.3f}'\n",
    "\n",
    "with gr.Blocks() as iface:\n",
    "    gr.Markdown(\"# Overfitting vs Underfitting Demonstration\")\n",
    "    gr.Markdown(\"Adjust the polynomial degree to see how model complexity affects performance on training and test data.\")\n",
    "    \n",
    "    with gr.Column():\n",
    "        degree_slider = gr.Slider(minimum=1, maximum=15, step=1, value=1, label=\"Polynomial Degree\")\n",
    "        plot_output = gr.Plot(label=\"Model Visualization\")\n",
    "        train_score = gr.Textbox(label=\"Training RMSE\")\n",
    "        test_score = gr.Textbox(label=\"Test RMSE\")\n",
    "        \n",
    "        degree_slider.change(\n",
    "            fn=train_and_visualize,\n",
    "            inputs=[degree_slider],\n",
    "            outputs=[plot_output, train_score, test_score],\n",
    "        )\n",
    "\n",
    "# Launch the interface\n",
    "iface.launch()"
   ]
  }
 ],
 "metadata": {
  "kernelspec": {
   "display_name": ".venv",
   "language": "python",
   "name": "python3"
  },
  "language_info": {
   "codemirror_mode": {
    "name": "ipython",
    "version": 3
   },
   "file_extension": ".py",
   "mimetype": "text/x-python",
   "name": "python",
   "nbconvert_exporter": "python",
   "pygments_lexer": "ipython3",
   "version": "3.9.6"
  }
 },
 "nbformat": 4,
 "nbformat_minor": 2
}
